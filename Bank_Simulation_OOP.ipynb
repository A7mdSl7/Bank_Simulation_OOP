{
 "cells": [
  {
   "cell_type": "markdown",
   "id": "b4ae0c9c",
   "metadata": {},
   "source": [
    "## Welcome Print a simple random bank name\n",
    "\n",
    "### Account Creation:\n",
    "\n",
    "Ask for the user’s name and initial balance.\n",
    "\n",
    "### Main Menu (Loop):\n",
    "\n",
    "1: Check balance → show balance.\n",
    "\n",
    "2: Deposit → ask amount, add to balance.\n",
    "\n",
    "3: Withdraw → ask amount, subtract if enough balance, else warn.\n",
    "\n",
    "4: Exit → end program with a thank-you message.\n",
    "\n",
    "### Details:\n",
    "\n",
    "Use functions for each operation.\n",
    "\n",
    "Show the user’s name and balance after actions.\n",
    "\n",
    "Handle invalid menu choices with an error message.\n",
    "\n",
    "Use float for balance.\n"
   ]
  },
  {
   "cell_type": "code",
   "execution_count": 1,
   "id": "402b4dee",
   "metadata": {},
   "outputs": [],
   "source": [
    "import random"
   ]
  },
  {
   "cell_type": "code",
   "execution_count": 2,
   "id": "b4198c94",
   "metadata": {},
   "outputs": [],
   "source": [
    "def bank_name():\n",
    "\n",
    "    names = [\"NBE\", \"Banque Misr\", \"Banque du Caire\", \"CIB\",\n",
    "             \"AlexBank\", \"QNB\", \"AAIB\", \"HDB\", \"SCB\", \"NBK\", \"ABC\"]\n",
    "    return random.choice(names)"
   ]
  },
  {
   "cell_type": "code",
   "execution_count": 11,
   "id": "9989be98",
   "metadata": {},
   "outputs": [],
   "source": [
    "class Account:\n",
    "    def __init__(self, name, balance):\n",
    "        self.name = name\n",
    "        self.balance = float(balance)\n",
    "        print(f\"Welcome {self.name}, You Have Created Account Successfully!\")\n",
    "\n",
    "    def check_balance(self):\n",
    "        print(f\"{self.name}, Your Current Balance Is {self.balance:.2f}\")\n",
    "\n",
    "    def deposit(self):\n",
    "        amount = float(input(\"Enter amount to deposit: \"))\n",
    "        if amount > 0:\n",
    "            self.balance += amount\n",
    "            print(f\"Deposited {amount}\")\n",
    "            print(f\"Your Current Balance Is: {self.balance}\")\n",
    "            return self.balance, True\n",
    "\n",
    "        else:\n",
    "            print(\"Amount Must Be Positive, Please Try Again\")\n",
    "            return self.balance, False\n",
    "\n",
    "    def withdraw(self):\n",
    "        amount = float(input(\"Enter Amount to Withdraw: \\n\"))\n",
    "        if amount > self.balance:\n",
    "            print(\"Insufficient Balance.\")\n",
    "        else:\n",
    "            self.balance -= amount\n",
    "            print(\n",
    "                f\"Withdrawal Successful. Your Current Balance Is: {self.balance:.2f}\")"
   ]
  },
  {
   "cell_type": "code",
   "execution_count": null,
   "id": "638038e2",
   "metadata": {},
   "outputs": [
    {
     "name": "stdout",
     "output_type": "stream",
     "text": [
      "Welcome to  ABC\n",
      "Welcome Ahmed, You Have Created Account Successfully!\n",
      "********** Main Menu **********\n",
      "\n",
      "1 -> Check balance\n",
      "2 -> deposit\n",
      "3 -> withdraw\n",
      "4 -> Exit\n",
      "\n",
      "Thank You For Visiting Us!\n"
     ]
    }
   ],
   "source": [
    "print(f\"Welcome to \", bank_name())\n",
    "\n",
    "name = input(\"Enter Your Name: \\n\")\n",
    "\n",
    "balance = float(input(\"Enter your initial balance: \"))\n",
    "\n",
    "user1 = Account(name, balance)\n",
    "\n",
    "while True:\n",
    "\n",
    "    print(\"********** Main Menu **********\\n\")\n",
    "    print(\"1 -> Check balance\")\n",
    "    print(\"2 -> deposit\")\n",
    "    print(\"3 -> withdraw\")\n",
    "    print(\"4 -> Exit\\n\")\n",
    "\n",
    "    choice = input(\"Enter Your Choice: \\n\")\n",
    "\n",
    "    if choice == \"1\":\n",
    "        user1.check_balance()\n",
    "        break\n",
    "\n",
    "    elif choice == \"2\":\n",
    "        user1.deposit()\n",
    "        break\n",
    "\n",
    "    elif choice == \"3\":\n",
    "        user1.withdraw()\n",
    "        break\n",
    "\n",
    "    elif choice == \"4\":\n",
    "        print(\"Thank You For Visiting Us!\")\n",
    "        break\n",
    "\n",
    "    else:\n",
    "        print(\"Invalid Choice, Please Select From 1 to 4\")"
   ]
  },
  {
   "cell_type": "code",
   "execution_count": null,
   "id": "87d8c100",
   "metadata": {},
   "outputs": [],
   "source": []
  }
 ],
 "metadata": {
  "kernelspec": {
   "display_name": "Python 3",
   "language": "python",
   "name": "python3"
  },
  "language_info": {
   "codemirror_mode": {
    "name": "ipython",
    "version": 3
   },
   "file_extension": ".py",
   "mimetype": "text/x-python",
   "name": "python",
   "nbconvert_exporter": "python",
   "pygments_lexer": "ipython3",
   "version": "3.12.4"
  }
 },
 "nbformat": 4,
 "nbformat_minor": 5
}
